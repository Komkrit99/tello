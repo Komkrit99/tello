{
 "cells": [
  {
   "cell_type": "code",
   "execution_count": null,
   "metadata": {
    "ExecuteTime": {
     "end_time": "2020-10-18T11:13:25.834718Z",
     "start_time": "2020-10-18T11:13:19.509504Z"
    }
   },
   "outputs": [],
   "source": [
    "import socket\n",
    "import threading \n",
    "import cv2 \n",
    "import time\n",
    "\n",
    "class VIDEO:          \n",
    "    def __init__(self):\n",
    "        ip, port='192.168.10.1', 8889\n",
    "        socket.socket(socket.AF_INET, socket.SOCK_DGRAM).sendto(b'command',  (ip, port))  \n",
    "        socket.socket(socket.AF_INET, socket.SOCK_DGRAM).sendto(b'streamon', (ip, port))   \n",
    "        self.void_frame = b'' \n",
    "        self.h264_frame = self.void_frame\n",
    "        self.jpeg_frame = self.void_frame\n",
    "        self.frame_event = threading.Event() # tell transmitter that receiver has a new frame from tello ready \n",
    "        self.stream_event = threading.Event() # tell opencv that transmitter has the stream ready. \n",
    "        threading.Thread(target=self.video_receiver   , daemon=True).start()  \n",
    "        threading.Thread(target=self.video_transmitter, daemon=True).start() \n",
    "        time.sleep(3)\n",
    "        threading.Thread(target=self.opencv    , daemon=True).start()   \n",
    "        time.sleep(3)\n",
    "         \n",
    "    def video_receiver(self): # receive h264 stream from tello \n",
    "        _receiver = socket.socket(socket.AF_INET, socket.SOCK_DGRAM)  # socket for receiving video stream (UDP)  \n",
    "        _receiver.bind(('', 11111)) # the udp port is fixed \n",
    "        while True:\n",
    "            frame = b'' \n",
    "            while True:\n",
    "                byte_, _ = _receiver.recvfrom(2048)   \n",
    "                frame += byte_\n",
    "                if len(byte_) != 1460:       # end of frame \n",
    "                    self.h264_frame = frame \n",
    "                    self.frame_event.set()   # let the reading frame event happen\n",
    "                    self.frame_event.clear() # prevent it happen until next set\n",
    "                    break \n",
    "            \n",
    "    def video_transmitter(self): # feed h264 stream to opencv\n",
    "        _transmitter = socket.socket(socket.AF_INET, socket.SOCK_STREAM) # socket for transmitting stream    (TCP)  \n",
    "        _transmitter.bind(('127.0.0.1', 12345)) # tcp port is up to us\n",
    "        _transmitter.listen(0)\n",
    "        while True: \n",
    "            conn, address = _transmitter.accept()   \n",
    "            file_obj = conn.makefile('wb')\n",
    "            stream_ready_flag = False \n",
    "            while True: \n",
    "                self.frame_event.wait() \n",
    "                try:\n",
    "                    file_obj.write(self.h264_frame) \n",
    "                except BrokenPipeError:\n",
    "                    print('[ Warning ] Tello returned nonsense!')\n",
    "                    print('[ Warning ] Please refresh stream after a while~\\n')\n",
    "                    break\n",
    "                file_obj.flush()      \n",
    "\n",
    "    def opencv(self):  \n",
    "        while True:\n",
    "            cap = cv2.VideoCapture(\"tcp://127.0.0.1:12345\")  \n",
    "            while(cap.isOpened()): \n",
    "                ret, frame = cap.read()  \n",
    "                if not ret: \n",
    "                    print('[ Error ] Please check if your tello is off~')\n",
    "                    break   \n",
    "                ret, jpeg = cv2.imencode('.jpg', frame)\n",
    "                self.jpeg_frame = jpeg.tobytes()\n",
    "            cap.release()\n",
    "            print('[ Warning ] OpenCV lost connection to transmitter!')\n",
    "            print('[ Warning ] Try reconnection in 3 seconds~')\n",
    "            time.sleep(3)\n",
    "        \n",
    "\n",
    "video = VIDEO()  "
   ]
  },
  {
   "cell_type": "code",
   "execution_count": null,
   "metadata": {
    "ExecuteTime": {
     "start_time": "2020-10-18T11:13:19.492Z"
    }
   },
   "outputs": [],
   "source": [
    "import flask \n",
    "\n",
    "app = flask.Flask(__name__)\n",
    "print('Click Here and see the video: http://127.0.0.1:9999/stream.mjpg\\n\\n\\n')\n",
    "fps=25\n",
    "interval = 1/fps\n",
    "@app.route(\"/stream.mjpg\") \n",
    "def mjpg1():  \n",
    "    def generator():      \n",
    "        while True:     \n",
    "            time.sleep(interval)  # threading.condition is too shitty according to my test. no condition no lag. \n",
    "            frame = video.jpeg_frame \n",
    "            yield f'''--FRAME\\r\\nContent-Type: image/jpeg\\r\\nContent-Length: {len(frame)}\\r\\n\\r\\n'''.encode() \n",
    "            yield frame\n",
    "    r = flask.Response(response=generator(), status=200)\n",
    "    r.headers.extend({'Age':0, 'Content-Type':'multipart/x-mixed-replace; boundary=FRAME',\n",
    "                      'Pragma':'no-cache', 'Cache-Control':'no-cache, private',}) \n",
    "    return r\n",
    "\n",
    "@app.route('/')\n",
    "def hello_world():\n",
    "    return 'Hello, World!'\n",
    "\n",
    "app.run('127.0.0.1', 9999)"
   ]
  }
 ],
 "metadata": {
  "kernelspec": {
   "display_name": "Python 3",
   "language": "python",
   "name": "python3"
  },
  "language_info": {
   "codemirror_mode": {
    "name": "ipython",
    "version": 3
   },
   "file_extension": ".py",
   "mimetype": "text/x-python",
   "name": "python",
   "nbconvert_exporter": "python",
   "pygments_lexer": "ipython3",
   "version": "3.8.2"
  }
 },
 "nbformat": 4,
 "nbformat_minor": 4
}
