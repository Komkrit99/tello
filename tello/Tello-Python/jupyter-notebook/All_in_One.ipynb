{
 "cells": [
  {
   "cell_type": "code",
   "execution_count": 1,
   "metadata": {
    "ExecuteTime": {
     "end_time": "2020-10-23T05:24:15.630217Z",
     "start_time": "2020-10-23T05:24:15.605979Z"
    },
    "code_folding": [
     2,
     20,
     38,
     50,
     77
    ]
   },
   "outputs": [
    {
     "name": "stdout",
     "output_type": "stream",
     "text": [
      "Flight Data Recording Begins ~\n"
     ]
    }
   ],
   "source": [
    "import time, queue, socket, sqlite3, datetime, threading  \n",
    "\n",
    "class Tello:\n",
    "    def __init__(self):\n",
    "        self.socket = socket.socket(socket.AF_INET, socket.SOCK_DGRAM) \n",
    "        self.socket.bind(('', 8889))   \n",
    "        self.db_queue  = queue.Queue() # cache flight data\n",
    "        self.cmd_queue = queue.Queue() \n",
    "        self.cmd_event = threading.Event() \n",
    "        self.MAX_TIME_OUT = 15         # It must be longer than 10 sec, give time to \"take off\" command.   \n",
    "        self.MAX_RETRY = 2\n",
    "        self.state = {}\n",
    "        threading.Thread(target=self.flight_logger, daemon=True).start() \n",
    "        threading.Thread(target=self.receiver     , daemon=True).start()\n",
    "        threading.Thread(target=self.sender       , daemon=True).start()   \n",
    "        threading.Thread(target=self.update_state , daemon=True).start()   \n",
    "    \n",
    "    def command(self, cmd):\n",
    "        self.cmd_queue.put(cmd)  \n",
    "     \n",
    "    def flight_logger(self):\n",
    "        con = sqlite3.connect(f'Tello_flight_log_{datetime.datetime.fromtimestamp(time.time()).strftime(\"%Y%m%d_%H%M%S\")}.db')  \n",
    "        cur = con.cursor() \n",
    "        cur.execute('CREATE TABLE commands(timestamp REAL, command TEXT, who TEXT);')\n",
    "        cur.execute('CREATE TABLE   states(timestamp REAL, log     TEXT          );') \n",
    "        print('Flight Data Recording Begins ~') \n",
    "        while 1: \n",
    "            operation = self.db_queue.get() \n",
    "            if   operation == 'commit': \n",
    "                con.commit()\n",
    "                print('Flight Data Saved ~') \n",
    "            elif operation == 'close': \n",
    "                con.close()  \n",
    "                print('Flight Data Recording Ends ~') \n",
    "                break\n",
    "            else: \n",
    "                cur.execute(operation) \n",
    "         \n",
    "    def receiver(self):  \n",
    "        while True: \n",
    "            bytes_, address = self.socket.recvfrom(1024)  \n",
    "            if bytes_ == b'ok':  \n",
    "                self.cmd_event.set() # one command has been successfully executed. Begin new execution.  \n",
    "            else:\n",
    "                print('[ Station ]:', bytes_)\n",
    "            try:\n",
    "                self.db_queue.put('INSERT INTO commands(timestamp, command, who) VALUES({}, \"{}\", \"{}\");'.format(time.time(), bytes_.decode(), \"Tello\")) \n",
    "            except UnicodeDecodeError as e:\n",
    "                print('Decoding Error that could be ignored~')\n",
    "    \n",
    "    def sender(self, debug=True): \n",
    "        tello_address = ('192.168.10.1', 8889)\n",
    "        self.cmd_event.set()        # allow the first wait to proceed \n",
    "        while True:\n",
    "            self.cmd_event.wait()   # block second get until an event is set from receiver or failure set\n",
    "            self.cmd_event.clear()  # block a timeout-enabled waiting\n",
    "            cmd = self.cmd_queue.get()   \n",
    "            self.db_queue.put(f'INSERT INTO commands(timestamp, command, who) VALUES({time.time()}, \"{cmd}\", \"Station\");')  \n",
    "            self.socket.sendto(cmd.encode('utf-8'), tello_address)\n",
    "            cmd_ok = False\n",
    "            for i in range(self.MAX_RETRY): \n",
    "                if self.cmd_event.wait(timeout=self.MAX_TIME_OUT): \n",
    "                    cmd_ok = True\n",
    "                    break\n",
    "                else:\n",
    "                    if debug: print(f'Failed command: \"{cmd}\", Failure sequence: {i+1}.')\n",
    "                    self.socket.sendto(cmd.encode('utf-8'), tello_address) \n",
    "            if cmd_ok: \n",
    "                print(f'Success with \"{cmd}\".') \n",
    "                if cmd == 'land':\n",
    "                    self.db_queue.put('commit')\n",
    "                    self.db_queue.put('close') \n",
    "            else:\n",
    "                self.cmd_event.set() # The failure set\n",
    "                if debug: print(f'Stop retry: \"{cmd}\", Maximum re-tries: {self.MAX_RETRY}.')\n",
    "            \n",
    "              \n",
    "    def update_state(self):\n",
    "        UDP = socket.socket(socket.AF_INET, socket.SOCK_DGRAM) \n",
    "        UDP.bind(('', 8890))  \n",
    "        while True: \n",
    "            bytes_, address = UDP.recvfrom(1024)\n",
    "            str_ = bytes_.decode() \n",
    "            self.db_queue.put('INSERT INTO states(timestamp, log) VALUES({},\"{}\");'.format(time.time(), str_))  \n",
    "            state = str_.split(';')\n",
    "            state.pop() \n",
    "            self.state.update(dict([s.split(':') for s in state]))\n",
    "            \n",
    "tello = Tello() "
   ]
  },
  {
   "cell_type": "code",
   "execution_count": 2,
   "metadata": {
    "ExecuteTime": {
     "end_time": "2020-10-23T05:24:30.285951Z",
     "start_time": "2020-10-23T05:24:21.069196Z"
    },
    "code_folding": [
     5
    ]
   },
   "outputs": [
    {
     "name": "stdout",
     "output_type": "stream",
     "text": [
      "[ Station ]: b'\\xcc\\x18\\x01\\xb9\\x88V\\x00\\x8b\\x01\\x00\\x00\\x00\\x00\\x00\\x00\\x00\\x00\\x00\\x00\\x00\\x00U\\x00\\x00&\\x10\\x00\\x06\\x00\\x00\\x00\\x00\\x00\\xa3\\xf0'\n",
      "Decoding Error that could be ignored~\n",
      "Success with \"command\".\n",
      "Success with \"streamon\".\n"
     ]
    }
   ],
   "source": [
    "import socket\n",
    "import threading \n",
    "import cv2 \n",
    "import time\n",
    "\n",
    "class VIDEO:          \n",
    "    def __init__(self):\n",
    "        tello.command('command')\n",
    "        tello.command('streamon') \n",
    "        time.sleep(3)\n",
    "        self.void_frame = b'' \n",
    "        self.h264_frame = self.void_frame\n",
    "        self.jpeg_frame = self.void_frame\n",
    "        self.frame_event = threading.Event() # tell transmitter that receiver has a new frame from tello ready \n",
    "        self.stream_event = threading.Event() # tell opencv that transmitter has the stream ready. \n",
    "        threading.Thread(target=self.video_receiver   , daemon=True).start()  \n",
    "        threading.Thread(target=self.video_transmitter, daemon=True).start() \n",
    "        time.sleep(3)\n",
    "        threading.Thread(target=self.opencv    , daemon=True).start()   \n",
    "        time.sleep(3)\n",
    "         \n",
    "    def video_receiver(self): # receive h264 stream from tello \n",
    "        _receiver = socket.socket(socket.AF_INET, socket.SOCK_DGRAM)  # socket for receiving video stream (UDP)  \n",
    "        _receiver.bind(('', 11111)) # the udp port is fixed \n",
    "        while True:\n",
    "            frame = b'' \n",
    "            while True:\n",
    "                byte_, _ = _receiver.recvfrom(2048)   \n",
    "                frame += byte_\n",
    "                if len(byte_) != 1460:       # end of frame \n",
    "                    self.h264_frame = frame \n",
    "                    self.frame_event.set()   # let the reading frame event happen\n",
    "                    self.frame_event.clear() # prevent it happen until next set\n",
    "                    break \n",
    "            \n",
    "    def video_transmitter(self): # feed h264 stream to opencv\n",
    "        _transmitter = socket.socket(socket.AF_INET, socket.SOCK_STREAM) # socket for transmitting stream    (TCP)  \n",
    "        _transmitter.bind(('127.0.0.1', 12345)) # tcp port is up to us\n",
    "        _transmitter.listen(0)\n",
    "        while True: \n",
    "            conn, address = _transmitter.accept()   \n",
    "            file_obj = conn.makefile('wb')\n",
    "            stream_ready_flag = False \n",
    "            while True: \n",
    "                self.frame_event.wait() \n",
    "                try:\n",
    "                    file_obj.write(self.h264_frame) \n",
    "                except BrokenPipeError:\n",
    "                    print('[ Warning ] Tello returned nonsense!')\n",
    "                    print('[ Warning ] Please refresh stream after a while~\\n')\n",
    "                    break\n",
    "                file_obj.flush()      \n",
    "\n",
    "    def opencv(self):  \n",
    "        while True:\n",
    "            cap = cv2.VideoCapture(\"tcp://127.0.0.1:12345\")  \n",
    "            while(cap.isOpened()): \n",
    "                ret, frame = cap.read()  \n",
    "                if not ret: \n",
    "                    print('[ Error ] Please check if your tello is off~')\n",
    "                    break   \n",
    "                ret, jpeg = cv2.imencode('.jpg', frame)\n",
    "                self.jpeg_frame = jpeg.tobytes()\n",
    "            cap.release()\n",
    "            print('[ Warning ] OpenCV lost connection to transmitter!')\n",
    "            print('[ Warning ] Try reconnection in 3 seconds~')\n",
    "            time.sleep(3)\n",
    "        \n",
    "\n",
    "video = VIDEO()  "
   ]
  },
  {
   "cell_type": "code",
   "execution_count": 3,
   "metadata": {
    "ExecuteTime": {
     "end_time": "2020-10-23T05:24:32.714253Z",
     "start_time": "2020-10-23T05:24:32.545008Z"
    }
   },
   "outputs": [
    {
     "name": "stdout",
     "output_type": "stream",
     "text": [
      "Click Here and see the video: http://127.0.0.1:9999/stream.mjpg\n",
      "\n",
      "\n",
      "\n",
      " * Serving Flask app \"__main__\" (lazy loading)\n",
      " * Environment: production\n",
      "   WARNING: This is a development server. Do not use it in a production deployment.\n",
      "   Use a production WSGI server instead.\n",
      " * Debug mode: off\n"
     ]
    },
    {
     "name": "stderr",
     "output_type": "stream",
     "text": [
      " * Running on http://127.0.0.1:9999/ (Press CTRL+C to quit)\n",
      "127.0.0.1 - - [23/Oct/2020 01:24:35] \"\u001b[37mGET /stream.mjpg HTTP/1.1\u001b[0m\" 200 -\n"
     ]
    }
   ],
   "source": [
    "import flask \n",
    "\n",
    "app = flask.Flask(__name__)\n",
    "print('Click Here and see the video: http://127.0.0.1:9999/stream.mjpg\\n\\n\\n')\n",
    "fps=25\n",
    "interval = 1/fps\n",
    "@app.route(\"/stream.mjpg\") \n",
    "def mjpg1():  \n",
    "    def generator():      \n",
    "        while True:     \n",
    "            time.sleep(interval)  # threading.condition is too shitty according to my test. no condition no lag. \n",
    "            frame = video.jpeg_frame \n",
    "            yield f'''--FRAME\\r\\nContent-Type: image/jpeg\\r\\nContent-Length: {len(frame)}\\r\\n\\r\\n'''.encode() \n",
    "            yield frame\n",
    "    r = flask.Response(response=generator(), status=200)\n",
    "    r.headers.extend({'Age':0, 'Content-Type':'multipart/x-mixed-replace; boundary=FRAME',\n",
    "                      'Pragma':'no-cache', 'Cache-Control':'no-cache, private',}) \n",
    "    return r\n",
    "\n",
    "@app.route('/')\n",
    "def hello_world():\n",
    "    return 'Hello, World!'\n",
    "\n",
    "def web():\n",
    "    app.run('127.0.0.1', 9999)\n",
    "\n",
    "threading.Thread(target=web , daemon=True).start() "
   ]
  },
  {
   "cell_type": "code",
   "execution_count": 6,
   "metadata": {
    "ExecuteTime": {
     "end_time": "2020-10-23T05:27:39.919443Z",
     "start_time": "2020-10-23T05:27:39.898375Z"
    }
   },
   "outputs": [
    {
     "name": "stdout",
     "output_type": "stream",
     "text": [
      "It may take 10 seconds to take off.\n",
      "Success with \"takeoff\".\n",
      "Success with \"forward 50\".\n",
      "Success with \"cw 90\".\n",
      "Success with \"forward 50\".\n",
      "Success with \"cw 90\".\n",
      "Success with \"forward 50\".\n",
      "Success with \"cw 90\".\n",
      "Success with \"forward 50\".\n",
      "Success with \"cw 90\".\n",
      "Success with \"land\".\n",
      "[ Error ] Please check if your tello is off~\n",
      "[ Warning ] OpenCV lost connection to transmitter!\n",
      "[ Warning ] Try reconnection in 3 seconds~\n",
      "[ Warning ] OpenCV lost connection to transmitter!\n",
      "[ Warning ] Try reconnection in 3 seconds~\n",
      "[ Warning ] OpenCV lost connection to transmitter!\n",
      "[ Warning ] Try reconnection in 3 seconds~\n",
      "[ Warning ] OpenCV lost connection to transmitter!\n",
      "[ Warning ] Try reconnection in 3 seconds~\n",
      "[ Warning ] OpenCV lost connection to transmitter!\n",
      "[ Warning ] Try reconnection in 3 seconds~\n",
      "[ Warning ] OpenCV lost connection to transmitter!\n",
      "[ Warning ] Try reconnection in 3 seconds~\n"
     ]
    }
   ],
   "source": [
    "print(\"It may take 10 seconds to take off.\") \n",
    "tello.command('takeoff') \n",
    "\n",
    "tello.command('forward 50') \n",
    "tello.command('cw 90') \n",
    "tello.command('forward 50') \n",
    "tello.command('cw 90') \n",
    "tello.command('forward 50') \n",
    "tello.command('cw 90') \n",
    "tello.command('forward 50') \n",
    "tello.command('cw 90')  \n",
    "\n",
    "tello.command('land') "
   ]
  }
 ],
 "metadata": {
  "kernelspec": {
   "display_name": "Python 3",
   "language": "python",
   "name": "python3"
  },
  "language_info": {
   "codemirror_mode": {
    "name": "ipython",
    "version": 3
   },
   "file_extension": ".py",
   "mimetype": "text/x-python",
   "name": "python",
   "nbconvert_exporter": "python",
   "pygments_lexer": "ipython3",
   "version": "3.8.2"
  }
 },
 "nbformat": 4,
 "nbformat_minor": 4
}
